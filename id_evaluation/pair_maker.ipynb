{
 "cells": [
  {
   "cell_type": "code",
   "execution_count": 1,
   "metadata": {},
   "outputs": [],
   "source": [
    "import os"
   ]
  },
  {
   "cell_type": "code",
   "execution_count": 3,
   "metadata": {},
   "outputs": [],
   "source": [
    "video_quanti_path = \"/root/daneul/projects/refactored/CogVideo/id_evaluation/videobooth_result_quanti_samples\"\n",
    "prompt_path = \"/root/daneul/projects/refactored/CogVideo/id_evaluation/zs_prompts.json\"\n",
    "first_frame_path = \"/root/daneul/projects/refactored/CogVideo/id_evaluation/processed_white_720x480\""
   ]
  },
  {
   "cell_type": "code",
   "execution_count": 4,
   "metadata": {},
   "outputs": [],
   "source": [
    "video_list = os.listdir(video_quanti_path)"
   ]
  },
  {
   "cell_type": "code",
   "execution_count": 6,
   "metadata": {},
   "outputs": [],
   "source": [
    "image_list = os.listdir(first_frame_path)"
   ]
  },
  {
   "cell_type": "code",
   "execution_count": 10,
   "metadata": {},
   "outputs": [],
   "source": [
    "# match video and image and make json like {\n",
    "#     \"000000129445.mp4\": \"000000129445.jpg\",\n",
    "#     \"000000201436.mp4\": \"000000201436.jpg\"\n",
    "# }\n",
    "vid_to_img_dict = {}\n",
    "for vid in video_list:\n",
    "    vid_name_to_img_name = vid[:-6]\n",
    "    img_name = vid_name_to_img_name + \".jpg\"\n",
    "    vid_to_img_dict[vid] = img_name"
   ]
  },
  {
   "cell_type": "code",
   "execution_count": 14,
   "metadata": {},
   "outputs": [],
   "source": [
    "import json\n",
    "with open('videobooth_vid_to_img.json', 'w') as f:\n",
    "    json.dump(vid_to_img_dict, f, indent=4)"
   ]
  },
  {
   "cell_type": "code",
   "execution_count": 15,
   "metadata": {},
   "outputs": [],
   "source": [
    "# load in prompt json\n",
    "with open(prompt_path, 'r') as f:\n",
    "    prompt_dict = json.load(f)"
   ]
  },
  {
   "cell_type": "code",
   "execution_count": 17,
   "metadata": {},
   "outputs": [],
   "source": [
    "# match prompt and image and make json like {\n",
    "#     \"000000129445.mp4\": \"A cat is sitting in a cozy kitchen, playfully pawing at a small object on the floor. The background shows wooden cabinets and a stainless steel refrigerator, with warm lighting creating a homely atmosphere. The cat occasionally looks around, its tail flicking back and forth.\",\n",
    "#     \"000000201436.mp4\": \"A bottle sits on a wooden kitchen counter, illuminated by the warm glow of a nearby lamp. The camera slowly pans around, capturing the cozy ambiance of the kitchen, with a window showing a serene evening sky in the background. The bottle reflects the light, creating a soft, inviting atmosphere.\"\n",
    "# }\n",
    "vid_to_prompt_dict = {}\n",
    "for vid in video_list:\n",
    "    vid_prompt_order = vid.split(\".\")[0].split(\"_\")[-1]\n",
    "    vid_name_to_img_name = vid[:-6] \n",
    "    if vid_name_to_img_name in prompt_dict:\n",
    "        prompt = prompt_dict[vid_name_to_img_name]\n",
    "        vid_to_prompt_dict[vid] = prompt[int(vid_prompt_order)]"
   ]
  },
  {
   "cell_type": "code",
   "execution_count": 19,
   "metadata": {},
   "outputs": [],
   "source": [
    "with open('videobooth_vid_to_prompt.json', 'w') as f:\n",
    "    json.dump(vid_to_prompt_dict, f, indent=4)"
   ]
  },
  {
   "cell_type": "code",
   "execution_count": null,
   "metadata": {},
   "outputs": [],
   "source": []
  }
 ],
 "metadata": {
  "kernelspec": {
   "display_name": "id_eval",
   "language": "python",
   "name": "python3"
  },
  "language_info": {
   "codemirror_mode": {
    "name": "ipython",
    "version": 3
   },
   "file_extension": ".py",
   "mimetype": "text/x-python",
   "name": "python",
   "nbconvert_exporter": "python",
   "pygments_lexer": "ipython3",
   "version": "3.12.9"
  }
 },
 "nbformat": 4,
 "nbformat_minor": 2
}
