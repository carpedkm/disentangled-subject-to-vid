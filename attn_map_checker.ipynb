{
 "cells": [
  {
   "cell_type": "code",
   "execution_count": 98,
   "metadata": {},
   "outputs": [],
   "source": [
    "import numpy as np\n",
    "import torch\n",
    "import cv2\n",
    "import os"
   ]
  },
  {
   "cell_type": "code",
   "execution_count": 99,
   "metadata": {},
   "outputs": [],
   "source": [
    "dirs = os.listdir('/home/v-daneulkim/videocustom/finetune/ominicontrol_style/attention_maps')"
   ]
  },
  {
   "cell_type": "code",
   "execution_count": 100,
   "metadata": {},
   "outputs": [],
   "source": [
    "dirs = [k for k in dirs if '.npy' in k]"
   ]
  },
  {
   "cell_type": "code",
   "execution_count": 101,
   "metadata": {},
   "outputs": [],
   "source": [
    "query_load = np.load('/home/v-daneulkim/videocustom/finetune/ominicontrol_style/attention_maps/' + \"query_layer41_timesteptensor([19, 19], device='cuda:0').npy\")\n",
    "key_load = np.load('/home/v-daneulkim/videocustom/finetune/ominicontrol_style/attention_maps/' + \"key_layer41_timesteptensor([19, 19], device='cuda:0').npy\")"
   ]
  },
  {
   "cell_type": "code",
   "execution_count": 102,
   "metadata": {},
   "outputs": [
    {
     "data": {
      "text/plain": [
       "(2, 48, 2926, 64)"
      ]
     },
     "execution_count": 102,
     "metadata": {},
     "output_type": "execute_result"
    }
   ],
   "source": [
    "query_load.shape"
   ]
  },
  {
   "cell_type": "code",
   "execution_count": 103,
   "metadata": {},
   "outputs": [
    {
     "data": {
      "text/plain": [
       "(2, 48, 2926, 64)"
      ]
     },
     "execution_count": 103,
     "metadata": {},
     "output_type": "execute_result"
    }
   ],
   "source": [
    "key_load.shape"
   ]
  },
  {
   "cell_type": "code",
   "execution_count": 104,
   "metadata": {},
   "outputs": [
    {
     "name": "stdout",
     "output_type": "stream",
     "text": [
      "Query shape: torch.Size([2, 48, 2926, 64])\n",
      "Key shape: torch.Size([2, 48, 2926, 64])\n",
      "Transposed Key shape: torch.Size([2, 48, 64, 2926])\n"
     ]
    }
   ],
   "source": [
    "import torch\n",
    "\n",
    "# Ensure same device\n",
    "query_load = torch.from_numpy(query_load).to(\"cuda\")\n",
    "key_load = torch.from_numpy(key_load).to(\"cuda\")\n",
    "\n",
    "# Ensure same dtype\n",
    "query_load = query_load.to(torch.float32)\n",
    "key_load = key_load.to(torch.float32)\n",
    "\n",
    "# Debug: Print shapes before matrix multiplication\n",
    "print(\"Query shape:\", query_load.shape)\n",
    "print(\"Key shape:\", key_load.shape)\n",
    "print(\"Transposed Key shape:\", key_load.transpose(-2, -1).shape)\n",
    "\n",
    "# Compute attention scores (QK^T)\n",
    "attn_scores = torch.matmul(query_load, key_load.transpose(-2, -1))  # (2, 48, 2926, 2926)\n",
    "\n",
    "# Scale by sqrt(head_dim)\n",
    "head_dim = query_load.shape[-1]  # 64\n",
    "attn_scores = attn_scores / (head_dim ** 0.5)"
   ]
  },
  {
   "cell_type": "code",
   "execution_count": 105,
   "metadata": {},
   "outputs": [
    {
     "data": {
      "text/plain": [
       "torch.Size([2, 48, 2926, 2926])"
      ]
     },
     "execution_count": 105,
     "metadata": {},
     "output_type": "execute_result"
    }
   ],
   "source": [
    "attn_scores.shape"
   ]
  },
  {
   "cell_type": "code",
   "execution_count": 106,
   "metadata": {},
   "outputs": [
    {
     "data": {
      "text/plain": [
       "torch.Size([2, 48, 2926, 64])"
      ]
     },
     "execution_count": 106,
     "metadata": {},
     "output_type": "execute_result"
    }
   ],
   "source": [
    "query_load.shape"
   ]
  },
  {
   "cell_type": "code",
   "execution_count": 107,
   "metadata": {},
   "outputs": [
    {
     "name": "stderr",
     "output_type": "stream",
     "text": [
      "<>:1: SyntaxWarning: 'int' object is not callable; perhaps you missed a comma?\n",
      "<>:1: SyntaxWarning: 'int' object is not callable; perhaps you missed a comma?\n",
      "/tmp/ipykernel_1107371/621306177.py:1: SyntaxWarning: 'int' object is not callable; perhaps you missed a comma?\n",
      "  1350 / 226 / 1350 (45 * 30)\n",
      "/tmp/ipykernel_1107371/621306177.py:1: SyntaxWarning: 'int' object is not callable; perhaps you missed a comma?\n",
      "  1350 / 226 / 1350 (45 * 30)\n",
      "/tmp/ipykernel_1107371/621306177.py:1: SyntaxWarning: 'int' object is not callable; perhaps you missed a comma?\n",
      "  1350 / 226 / 1350 (45 * 30)\n"
     ]
    },
    {
     "ename": "TypeError",
     "evalue": "'int' object is not callable",
     "output_type": "error",
     "traceback": [
      "\u001b[0;31m---------------------------------------------------------------------------\u001b[0m",
      "\u001b[0;31mTypeError\u001b[0m                                 Traceback (most recent call last)",
      "Cell \u001b[0;32mIn[107], line 1\u001b[0m\n\u001b[0;32m----> 1\u001b[0m \u001b[38;5;241m1350\u001b[39m \u001b[38;5;241m/\u001b[39m \u001b[38;5;241m226\u001b[39m \u001b[38;5;241m/\u001b[39m \u001b[38;5;241;43m1350\u001b[39;49m\u001b[43m \u001b[49m\u001b[43m(\u001b[49m\u001b[38;5;241;43m45\u001b[39;49m\u001b[43m \u001b[49m\u001b[38;5;241;43m*\u001b[39;49m\u001b[43m \u001b[49m\u001b[38;5;241;43m30\u001b[39;49m\u001b[43m)\u001b[49m\n",
      "\u001b[0;31mTypeError\u001b[0m: 'int' object is not callable"
     ]
    }
   ],
   "source": [
    "1350 / 226 / 1350 (45 * 30)"
   ]
  },
  {
   "cell_type": "code",
   "execution_count": 108,
   "metadata": {},
   "outputs": [
    {
     "data": {
      "text/plain": [
       "torch.Size([2, 48, 2926, 2926])"
      ]
     },
     "execution_count": 108,
     "metadata": {},
     "output_type": "execute_result"
    }
   ],
   "source": [
    "attn_scores.shape\n"
   ]
  },
  {
   "cell_type": "code",
   "execution_count": 109,
   "metadata": {},
   "outputs": [],
   "source": [
    "tmp = attn_scores[1, 1]"
   ]
  },
  {
   "cell_type": "code",
   "execution_count": 110,
   "metadata": {},
   "outputs": [],
   "source": [
    "tmp2 = tmp[..., 1576:]"
   ]
  },
  {
   "cell_type": "code",
   "execution_count": 111,
   "metadata": {},
   "outputs": [
    {
     "data": {
      "text/plain": [
       "torch.Size([2926, 1350])"
      ]
     },
     "execution_count": 111,
     "metadata": {},
     "output_type": "execute_result"
    }
   ],
   "source": [
    "tmp2.shape"
   ]
  },
  {
   "cell_type": "code",
   "execution_count": 112,
   "metadata": {},
   "outputs": [
    {
     "data": {
      "text/plain": [
       "torch.Size([1350])"
      ]
     },
     "execution_count": 112,
     "metadata": {},
     "output_type": "execute_result"
    }
   ],
   "source": [
    "tmp2[0,:].shape"
   ]
  },
  {
   "cell_type": "code",
   "execution_count": 113,
   "metadata": {},
   "outputs": [],
   "source": [
    "from transformers import AutoTokenizer, T5EncoderModel, T5Tokenizer"
   ]
  },
  {
   "cell_type": "code",
   "execution_count": 138,
   "metadata": {},
   "outputs": [
    {
     "name": "stderr",
     "output_type": "stream",
     "text": [
      "Downloading shards: 100%|██████████| 2/2 [00:00<00:00, 4385.05it/s]\n",
      "Loading checkpoint shards: 100%|██████████| 2/2 [00:01<00:00,  1.46it/s]\n"
     ]
    },
    {
     "name": "stdout",
     "output_type": "stream",
     "text": [
      "Tokenized Sentence: ['<cls>', '▁On', '▁the', '▁beach', ',', '▁', 'a', '▁lady', '▁sit', 's', '▁under', '▁', 'a', '▁beach', '▁umbrella', '▁with', '▁', \"'\", 'O', 'mini', \"'\", '▁written', '▁on', '▁it', '.', '▁She', \"'\", 's', '▁wearing', '▁', 'h', 'awa', 'i', 'i', 'an', '▁shirt', '▁and', '▁has', '▁', 'a', '▁big', '▁smile', '▁on', '▁her', '▁face', ',', '▁with', '▁her', '▁surf', 'board', '▁', 'he', 'hin', 'd', '▁her', '.', '▁The', '▁sun', '▁is', '▁setting', '▁in', '▁the', '▁background', '.', '▁The', '▁sky', '▁is', '▁', 'a', '▁beautiful', '▁shade', '▁of', '▁orange', '▁and', '▁purple', '.']\n",
      "Token Index for 'shirt': [35]\n"
     ]
    }
   ],
   "source": [
    "tokenizer = AutoTokenizer.from_pretrained(\n",
    "    \"THUDM/CogVideoX-5b\", subfolder=\"tokenizer\", revision=None\n",
    ")\n",
    "text_encoder = T5EncoderModel.from_pretrained(\n",
    "    \"THUDM/CogVideoX-5b\", subfolder=\"text_encoder\", revision=None\n",
    ")\n",
    "sentence = \"<cls> On the beach, a lady sits under a beach umbrella with 'Omini' written on it. She's wearing hawaiian shirt and has a big smile on her face, with her surfboard hehind her. The sun is setting in the background. The sky is a beautiful shade of orange and purple.\"\n",
    "look_up = 'shirt'\n",
    "special_token = {\"additional_special_tokens\": [\"<cls>\"]}\n",
    "tokenizer.add_special_tokens(special_token)\n",
    "text_encoder.resize_token_embeddings(len(tokenizer))\n",
    "tokens = tokenizer.tokenize(sentence)\n",
    "indexed_tokens = tokenizer.encode(sentence, add_special_tokens=False)\n",
    "\n",
    "# Find index of 'shirt'\n",
    "word_idx = [i for i, token in enumerate(tokens) if look_up in token]\n",
    "                 \n",
    "# Print tokenized results\n",
    "print(f\"Tokenized Sentence: {tokens}\")\n",
    "print(f\"Token Index for '{look_up}': {word_idx}\")\n"
   ]
  },
  {
   "cell_type": "code",
   "execution_count": 139,
   "metadata": {},
   "outputs": [],
   "source": [
    "tmp3 = tmp2[1350 + word_idx[0],:].reshape(30, 45)"
   ]
  },
  {
   "cell_type": "code",
   "execution_count": 140,
   "metadata": {},
   "outputs": [
    {
     "data": {
      "text/plain": [
       "<matplotlib.image.AxesImage at 0x7eb0c1f0fa60>"
      ]
     },
     "execution_count": 140,
     "metadata": {},
     "output_type": "execute_result"
    },
    {
     "data": {
      "image/png": "[encoded data removed]",
      "text/plain": [
       "<Figure size 640x480 with 1 Axes>"
      ]
     },
     "metadata": {},
     "output_type": "display_data"
    }
   ],
   "source": [
    "# normlaize tmp3 to 0~1\n",
    "tmp3 = (tmp3 - tmp3.min()) / (tmp3.max() - tmp3.min())\n",
    "tmp3 = tmp3.detach().cpu().numpy()\n",
    "# plot heatmap\n",
    "import matplotlib.pyplot as plt\n",
    "plt.imshow(tmp3, cmap='gray', interpolation='nearest')"
   ]
  },
  {
   "cell_type": "code",
   "execution_count": 137,
   "metadata": {},
   "outputs": [
    {
     "data": {
      "text/plain": [
       "<matplotlib.image.AxesImage at 0x7eb0c1f58a90>"
      ]
     },
     "execution_count": 137,
     "metadata": {},
     "output_type": "execute_result"
    },
    {
     "data": {
      "image/png": "[encoded data removed]",
      "text/plain": [
       "<Figure size 640x480 with 1 Axes>"
      ]
     },
     "metadata": {},
     "output_type": "display_data"
    }
   ],
   "source": [
    "# normlaize tmp3 to 0~1\n",
    "tmp3 = (tmp3 - tmp3.min()) / (tmp3.max() - tmp3.min())\n",
    "tmp3 = tmp3.detach().cpu().numpy()\n",
    "# plot heatmap\n",
    "import matplotlib.pyplot as plt\n",
    "plt.imshow(tmp3, cmap='gray', interpolation='nearest')"
   ]
  },
  {
   "cell_type": "code",
   "execution_count": null,
   "metadata": {},
   "outputs": [],
   "source": []
  },
  {
   "cell_type": "code",
   "execution_count": null,
   "metadata": {},
   "outputs": [],
   "source": []
  },
  {
   "cell_type": "code",
   "execution_count": null,
   "metadata": {},
   "outputs": [],
   "source": []
  },
  {
   "cell_type": "code",
   "execution_count": null,
   "metadata": {},
   "outputs": [],
   "source": []
  },
  {
   "cell_type": "code",
   "execution_count": null,
   "metadata": {},
   "outputs": [],
   "source": []
  },
  {
   "cell_type": "code",
   "execution_count": null,
   "metadata": {},
   "outputs": [],
   "source": []
  },
  {
   "cell_type": "code",
   "execution_count": null,
   "metadata": {},
   "outputs": [],
   "source": []
  },
  {
   "cell_type": "code",
   "execution_count": null,
   "metadata": {},
   "outputs": [],
   "source": []
  },
  {
   "cell_type": "code",
   "execution_count": null,
   "metadata": {},
   "outputs": [],
   "source": []
  }
 ],
 "metadata": {
  "kernelspec": {
   "display_name": "Python 3",
   "language": "python",
   "name": "python3"
  },
  "language_info": {
   "codemirror_mode": {
    "name": "ipython",
    "version": 3
   },
   "file_extension": ".py",
   "mimetype": "text/x-python",
   "name": "python",
   "nbconvert_exporter": "python",
   "pygments_lexer": "ipython3",
   "version": "3.10.12"
  }
 },
 "nbformat": 4,
 "nbformat_minor": 2
}
