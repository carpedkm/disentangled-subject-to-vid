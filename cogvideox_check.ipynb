{
 "cells": [
  {
   "cell_type": "code",
   "execution_count": 1,
   "metadata": {},
   "outputs": [
    {
     "name": "stderr",
     "output_type": "stream",
     "text": [
      "/opt/conda/envs/cogvideo_vanilla/lib/python3.12/site-packages/tqdm/auto.py:21: TqdmWarning: IProgress not found. Please update jupyter and ipywidgets. See https://ipywidgets.readthedocs.io/en/stable/user_install.html\n",
      "  from .autonotebook import tqdm as notebook_tqdm\n"
     ]
    }
   ],
   "source": [
    "# get cogvideox model\n",
    "import torch\n",
    "from diffusers import AutoencoderKLCogVideoX, CogVideoXDPMScheduler, CogVideoXPipeline, CogVideoXTransformer3DModel"
   ]
  },
  {
   "cell_type": "code",
   "execution_count": 2,
   "metadata": {},
   "outputs": [
    {
     "name": "stderr",
     "output_type": "stream",
     "text": [
      "Fetching 2 files: 100%|██████████| 2/2 [00:00<00:00, 26051.58it/s]\n"
     ]
    }
   ],
   "source": [
    "transformer = CogVideoXTransformer3DModel.from_pretrained( # DECLARE \n",
    "        'THUDM/CogVideoX-5B',\n",
    "        subfolder=\"transformer\",\n",
    "        torch_dtype=torch.bfloat16,\n",
    "        revision=None,\n",
    "        variant=None,\n",
    "        customization=True,\n",
    "        concatenated_all=False,\n",
    "        reduce_token=False,\n",
    "        zero_conv_add=False,\n",
    "        vae_add=False,\n",
    "    )"
   ]
  },
  {
   "cell_type": "code",
   "execution_count": 3,
   "metadata": {},
   "outputs": [
    {
     "name": "stdout",
     "output_type": "stream",
     "text": [
      "CogVideoXTransformer3DModel(\n",
      "  (patch_embed): CogVideoXPatchEmbed(\n",
      "    (proj): Conv2d(16, 3072, kernel_size=(2, 2), stride=(2, 2))\n",
      "    (text_proj): Linear(in_features=4096, out_features=3072, bias=True)\n",
      "  )\n",
      "  (embedding_dropout): Dropout(p=0.0, inplace=False)\n",
      "  (time_proj): Timesteps()\n",
      "  (time_embedding): TimestepEmbedding(\n",
      "    (linear_1): Linear(in_features=3072, out_features=512, bias=True)\n",
      "    (act): SiLU()\n",
      "    (linear_2): Linear(in_features=512, out_features=512, bias=True)\n",
      "  )\n",
      "  (transformer_blocks): ModuleList(\n",
      "    (0-41): 42 x CogVideoXBlock(\n",
      "      (norm1): CogVideoXLayerNormZero(\n",
      "        (silu): SiLU()\n",
      "        (linear): Linear(in_features=512, out_features=18432, bias=True)\n",
      "        (norm): LayerNorm((3072,), eps=1e-05, elementwise_affine=True)\n",
      "      )\n",
      "      (attn1): Attention(\n",
      "        (norm_q): LayerNorm((64,), eps=1e-06, elementwise_affine=True)\n",
      "        (norm_k): LayerNorm((64,), eps=1e-06, elementwise_affine=True)\n",
      "        (to_q): Linear(in_features=3072, out_features=3072, bias=True)\n",
      "        (to_k): Linear(in_features=3072, out_features=3072, bias=True)\n",
      "        (to_v): Linear(in_features=3072, out_features=3072, bias=True)\n",
      "        (to_out): ModuleList(\n",
      "          (0): Linear(in_features=3072, out_features=3072, bias=True)\n",
      "          (1): Dropout(p=0.0, inplace=False)\n",
      "        )\n",
      "      )\n",
      "      (norm2): CogVideoXLayerNormZero(\n",
      "        (silu): SiLU()\n",
      "        (linear): Linear(in_features=512, out_features=18432, bias=True)\n",
      "        (norm): LayerNorm((3072,), eps=1e-05, elementwise_affine=True)\n",
      "      )\n",
      "      (ff): FeedForward(\n",
      "        (net): ModuleList(\n",
      "          (0): GELU(\n",
      "            (proj): Linear(in_features=3072, out_features=12288, bias=True)\n",
      "          )\n",
      "          (1): Dropout(p=0.0, inplace=False)\n",
      "          (2): Linear(in_features=12288, out_features=3072, bias=True)\n",
      "          (3): Dropout(p=0.0, inplace=False)\n",
      "        )\n",
      "      )\n",
      "    )\n",
      "  )\n",
      "  (norm_final): LayerNorm((3072,), eps=1e-05, elementwise_affine=True)\n",
      "  (norm_out): AdaLayerNorm(\n",
      "    (silu): SiLU()\n",
      "    (linear): Linear(in_features=512, out_features=6144, bias=True)\n",
      "    (norm): LayerNorm((3072,), eps=1e-05, elementwise_affine=True)\n",
      "  )\n",
      "  (proj_out): Linear(in_features=3072, out_features=64, bias=True)\n",
      ")\n"
     ]
    }
   ],
   "source": [
    "print(transformer)"
   ]
  },
  {
   "cell_type": "code",
   "execution_count": null,
   "metadata": {},
   "outputs": [],
   "source": []
  }
 ],
 "metadata": {
  "kernelspec": {
   "display_name": "cogvideo_vanilla",
   "language": "python",
   "name": "python3"
  },
  "language_info": {
   "codemirror_mode": {
    "name": "ipython",
    "version": 3
   },
   "file_extension": ".py",
   "mimetype": "text/x-python",
   "name": "python",
   "nbconvert_exporter": "python",
   "pygments_lexer": "ipython3",
   "version": "3.12.7"
  }
 },
 "nbformat": 4,
 "nbformat_minor": 2
}
