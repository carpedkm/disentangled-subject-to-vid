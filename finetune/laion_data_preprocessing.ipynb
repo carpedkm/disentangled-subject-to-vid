{
 "cells": [
  {
   "cell_type": "code",
   "execution_count": 2,
   "metadata": {},
   "outputs": [
    {
     "ename": "",
     "evalue": "",
     "output_type": "error",
     "traceback": [
      "\u001b[1;31mThe Kernel crashed while executing code in the current cell or a previous cell. \n",
      "\u001b[1;31mPlease review the code in the cell(s) to identify a possible cause of the failure. \n",
      "\u001b[1;31mClick <a href='https://aka.ms/vscodeJupyterKernelCrash'>here</a> for more info. \n",
      "\u001b[1;31mView Jupyter <a href='command:jupyter.viewOutput'>log</a> for further details."
     ]
    }
   ],
   "source": [
    "import pyarrow.parquet as pq\n",
    "import pyarrow as pa\n",
    "import os\n",
    "\n",
    "# Directory containing the partial .parquet files\n",
    "directory = \"/mnt/carpedkm_data/image_gen_ds/relaion2B-en-research\"\n",
    "\n",
    "# List all .snappy.parquet files\n",
    "parquet_files = [os.path.join(directory, f) for f in os.listdir(directory) if f.endswith(\".snappy.parquet\")]\n",
    "\n",
    "# Merge the partial files into one\n",
    "tables = [pq.read_table(f) for f in parquet_files]\n",
    "combined_table = pa.concat_tables(tables)\n",
    "\n",
    "# Write the combined table to a new file\n",
    "pq.write_table(combined_table, \"merged_file.snappy.parquet\")"
   ]
  },
  {
   "cell_type": "code",
   "execution_count": null,
   "metadata": {},
   "outputs": [],
   "source": []
  },
  {
   "cell_type": "code",
   "execution_count": null,
   "metadata": {},
   "outputs": [],
   "source": [
    "import crcmod\n",
    "import binascii\n",
    "\n",
    "# Compute and verify CRC for a .parquet file\n",
    "def verify_crc(parquet_file, crc_file):\n",
    "    crc32_func = crcmod.predefined.mkCrcFun('crc-32')\n",
    "    with open(parquet_file, \"rb\") as f:\n",
    "        file_data = f.read()\n",
    "        calculated_crc = crc32_func(file_data)\n",
    "\n",
    "    with open(crc_file, \"rb\") as f:\n",
    "        stored_crc = int(f.read().strip(), 16)  # CRC values are often in hexadecimal\n",
    "\n",
    "    return calculated_crc == stored_crc\n",
    "\n",
    "# Example\n",
    "parquet_file = \"partial_file.snappy.parquet\"\n",
    "crc_file = \"partial_file.snappy.parquet.crc\"\n",
    "if verify_crc(parquet_file, crc_file):\n",
    "    print(f\"{parquet_file} is valid.\")\n",
    "else:\n",
    "    print(f\"{parquet_file} is corrupted.\")"
   ]
  },
  {
   "cell_type": "code",
   "execution_count": null,
   "metadata": {},
   "outputs": [],
   "source": [
    "import crcmod\n",
    "import binascii\n",
    "\n",
    "# Compute and verify CRC for a .parquet file\n",
    "def verify_crc(parquet_file, crc_file):\n",
    "    crc32_func = crcmod.predefined.mkCrcFun('crc-32')\n",
    "    with open(parquet_file, \"rb\") as f:\n",
    "        file_data = f.read()\n",
    "        calculated_crc = crc32_func(file_data)\n",
    "\n",
    "    with open(crc_file, \"rb\") as f:\n",
    "        stored_crc = int(f.read().strip(), 16)  # CRC values are often in hexadecimal\n",
    "\n",
    "    return calculated_crc == stored_crc\n",
    "\n",
    "# Example\n",
    "parquet_file = \"partial_file.snappy.parquet\"\n",
    "crc_file = \"partial_file.snappy.parquet.crc\"\n",
    "if verify_crc(parquet_file, crc_file):\n",
    "    print(f\"{parquet_file} is valid.\")\n",
    "else:\n",
    "    print(f\"{parquet_file} is corrupted.\")"
   ]
  },
  {
   "cell_type": "code",
   "execution_count": null,
   "metadata": {},
   "outputs": [],
   "source": [
    "import pyarrow.parquet as pq\n",
    "\n",
    "table = pq.read_table(\"merged_file.snappy.parquet\")\n",
    "print(table.to_pandas())  # Convert to pandas DataFrame"
   ]
  },
  {
   "cell_type": "code",
   "execution_count": null,
   "metadata": {},
   "outputs": [],
   "source": [
    "import pandas as pd\n",
    "\n",
    "df = pd.read_parquet(\"merged_file.snappy.parquet\")\n",
    "print(df.head())"
   ]
  }
 ],
 "metadata": {
  "kernelspec": {
   "display_name": "ptca",
   "language": "python",
   "name": "python3"
  },
  "language_info": {
   "codemirror_mode": {
    "name": "ipython",
    "version": 3
   },
   "file_extension": ".py",
   "mimetype": "text/x-python",
   "name": "python",
   "nbconvert_exporter": "python",
   "pygments_lexer": "ipython3",
   "version": "3.10.14"
  }
 },
 "nbformat": 4,
 "nbformat_minor": 2
}
