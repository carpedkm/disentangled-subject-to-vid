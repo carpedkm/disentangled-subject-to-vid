{
 "cells": [
  {
   "cell_type": "code",
   "execution_count": null,
   "metadata": {},
   "outputs": [
    {
     "data": {
      "text/plain": [
       "{'red_toy': [\"The red toy bounces playfully across a colorful children's playroom, jumping from one soft cushion to another. The background is filled with vibrant toys, a cozy rug, and a large window letting in warm sunlight. The camera follows its energetic hops as it interacts with building blocks, stuffed animals, and rolling balls, creating a lively and joyful atmosphere.\",\n",
       "  \"The red toy moves curiously through a magical forest, hopping between glowing mushrooms and soft moss-covered rocks. Fireflies flicker around it, and the background features towering enchanted trees with swirling mist. The toy's fluffy body absorbs the soft ambient glow of mystical lights as it explores this whimsical world.\",\n",
       "  'The red toy scurries across a futuristic space station, navigating through metallic corridors with blinking control panels and floating holograms. The background showcases a large window revealing a vast galaxy, with distant planets and shimmering stars. The toy moves with a mix of excitement and curiosity, occasionally floating in zero gravity as it playfully tumbles through the air.',\n",
       "  'The red toy marches through a candy wonderland, stepping on marshmallow pathways and climbing giant gummy bear mountains. The background is a vibrant landscape filled with candy canes, chocolate rivers, and fluffy cotton candy clouds. The toy playfully rolls down a jellybean hill, leaving a trail of sugary sparkles in its path.',\n",
       "  'The red toy embarks on an adventurous journey in an ancient jungle temple, hopping between moss-covered stones and swinging on vine-like ropes. The background is filled with towering stone statues, mysterious glowing symbols, and cascading waterfalls. The camera follows its brave movements as it uncovers hidden paths and navigates small booby traps in this forgotten ruin.']}"
      ]
     },
     "execution_count": 1,
     "metadata": {},
     "output_type": "execute_result"
    }
   ],
   "source": [
    "dict_of_prompts = {\n",
    "    \"red_toy\": [\n",
    "        \"The red toy bounces playfully across a colorful children's playroom, jumping from one soft cushion to another. The background is filled with vibrant toys, a cozy rug, and a large window letting in warm sunlight. The camera follows its energetic hops as it interacts with building blocks, stuffed animals, and rolling balls, creating a lively and joyful atmosphere.\",\n",
    "        \"The red toy moves curiously through a magical forest, hopping between glowing mushrooms and soft moss-covered rocks. Fireflies flicker around it, and the background features towering enchanted trees with swirling mist. The toy's fluffy body absorbs the soft ambient glow of mystical lights as it explores this whimsical world.\",\n",
    "        \"The red toy scurries across a futuristic space station, navigating through metallic corridors with blinking control panels and floating holograms. The background showcases a large window revealing a vast galaxy, with distant planets and shimmering stars. The toy moves with a mix of excitement and curiosity, occasionally floating in zero gravity as it playfully tumbles through the air.\",\n",
    "        \"The red toy marches through a candy wonderland, stepping on marshmallow pathways and climbing giant gummy bear mountains. The background is a vibrant landscape filled with candy canes, chocolate rivers, and fluffy cotton candy clouds. The toy playfully rolls down a jellybean hill, leaving a trail of sugary sparkles in its path.\",\n",
    "        \"The red toy embarks on an adventurous journey in an ancient jungle temple, hopping between moss-covered stones and swinging on vine-like ropes. The background is filled with towering stone statues, mysterious glowing symbols, and cascading waterfalls. The camera follows its brave movements as it uncovers hidden paths and navigates small booby traps in this forgotten ruin.\"\n",
    "    ]\n",
    "}"
   ]
  },
  {
   "cell_type": "code",
   "execution_count": null,
   "metadata": {},
   "outputs": [],
   "source": []
  },
  {
   "cell_type": "code",
   "execution_count": null,
   "metadata": {},
   "outputs": [],
   "source": []
  },
  {
   "cell_type": "code",
   "execution_count": null,
   "metadata": {},
   "outputs": [],
   "source": []
  },
  {
   "cell_type": "code",
   "execution_count": null,
   "metadata": {},
   "outputs": [],
   "source": [
    "# clip_t calculation\n",
    "\n",
    "\n",
    "\n",
    "# clip_i calculation\n",
    "\n",
    "\n"
   ]
  },
  {
   "cell_type": "code",
   "execution_count": null,
   "metadata": {},
   "outputs": [],
   "source": [
    "# regional clip score calculation"
   ]
  },
  {
   "cell_type": "code",
   "execution_count": null,
   "metadata": {},
   "outputs": [],
   "source": [
    "# dino score calculation\n",
    "\n",
    "\n"
   ]
  }
 ],
 "metadata": {
  "kernelspec": {
   "display_name": "ptca",
   "language": "python",
   "name": "python3"
  },
  "language_info": {
   "codemirror_mode": {
    "name": "ipython",
    "version": 3
   },
   "file_extension": ".py",
   "mimetype": "text/x-python",
   "name": "python",
   "nbconvert_exporter": "python",
   "pygments_lexer": "ipython3",
   "version": "3.10.14"
  }
 },
 "nbformat": 4,
 "nbformat_minor": 2
}
