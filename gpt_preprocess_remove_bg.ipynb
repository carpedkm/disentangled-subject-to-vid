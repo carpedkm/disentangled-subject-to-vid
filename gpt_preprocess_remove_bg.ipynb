{
 "cells": [
  {
   "cell_type": "code",
   "execution_count": 1,
   "metadata": {},
   "outputs": [],
   "source": [
    "import os\n",
    "import csv\n",
    "import json\n",
    "import time\n",
    "import multiprocessing\n",
    "from tqdm import tqdm\n",
    "## Azure - GPT initialization\n",
    "from azure.identity import AzureCliCredential, get_bearer_token_provider\n",
    "from openai import AzureOpenAI"
   ]
  },
  {
   "cell_type": "code",
   "execution_count": 2,
   "metadata": {},
   "outputs": [],
   "source": [
    "credential = AzureCliCredential()\n",
    "\n",
    "token_provider = get_bearer_token_provider(\n",
    "    credential,\n",
    "    \"https://cognitiveservices.azure.com/.default\"\n",
    ")\n",
    "\n",
    "aoiclient = AzureOpenAI(\n",
    "    azure_endpoint=\"https://t2vgoaigpt4o.openai.azure.com/\",\n",
    "    azure_ad_token_provider=token_provider,\n",
    "    api_version=\"2024-02-15-preview\",\n",
    "    max_retries=5,\n",
    ")"
   ]
  },
  {
   "cell_type": "code",
   "execution_count": 3,
   "metadata": {},
   "outputs": [],
   "source": [
    "# Function to process a single text input (to be called by each process)\n",
    "def process_single_text(text):\n",
    "    messages = [{\n",
    "        \"role\": \"user\",\n",
    "        \"content\": f\"Your role is to extract object nouns from the given text. \\\n",
    "                    From the given text, extract objects nouns, and do not include nouns that may refer to background. \\\n",
    "                    The objects would be used for referring the object inside object segmentation model. \\\n",
    "                    We aim to remove segmented object to only keep the background. \\\n",
    "                    Try to use the word inside the given sentence to extract the object nouns. \\\n",
    "                    Give me object name only, without any further context or description. \\\n",
    "                    The object nouns should be separated by a period '.'. {text}\"\n",
    "    }]\n",
    "    \n",
    "    try:\n",
    "        # Send a single request to Azure OpenAI for each text\n",
    "        response = aoiclient.chat.completions.create(\n",
    "            model=\"gpt4o\",  \n",
    "            messages=messages,\n",
    "            temperature=0.2,\n",
    "            max_tokens=100,\n",
    "            top_p=0.2,\n",
    "            frequency_penalty=0,\n",
    "            presence_penalty=0,\n",
    "            stop=None,\n",
    "        )\n",
    "        # Extract object nouns from the response\n",
    "        choice = response.choices[0].message.content\n",
    "        time.sleep(5)  # Sleep for 3 seconds to avoid rate limiting\n",
    "        return choice\n",
    "    except Exception as e:\n",
    "        print(f\"Error processing text: {text} - {e}\")\n",
    "        return None"
   ]
  },
  {
   "cell_type": "code",
   "execution_count": 4,
   "metadata": {},
   "outputs": [],
   "source": [
    "# Function to handle multiprocessing across all text entries\n",
    "def batch_process_through_gpt_api_multiprocessing(text_list, num_workers=4):\n",
    "    # Use multiprocessing to process individual texts in parallel\n",
    "    with multiprocessing.Pool(processes=num_workers) as pool:\n",
    "        objects_list = list(tqdm(pool.imap(process_single_text, text_list), total=len(text_list)))\n",
    "\n",
    "    return objects_list"
   ]
  },
  {
   "cell_type": "code",
   "execution_count": null,
   "metadata": {},
   "outputs": [],
   "source": []
  }
 ],
 "metadata": {
  "kernelspec": {
   "display_name": "ptca",
   "language": "python",
   "name": "python3"
  },
  "language_info": {
   "codemirror_mode": {
    "name": "ipython",
    "version": 3
   },
   "file_extension": ".py",
   "mimetype": "text/x-python",
   "name": "python",
   "nbconvert_exporter": "python",
   "pygments_lexer": "ipython3",
   "version": "3.10.14"
  }
 },
 "nbformat": 4,
 "nbformat_minor": 2
}
