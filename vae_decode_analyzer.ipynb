{
 "cells": [
  {
   "cell_type": "code",
   "execution_count": 12,
   "metadata": {},
   "outputs": [],
   "source": [
    "import os\n",
    "import torch\n",
    "import numpy as np\n",
    "from diffusers import AutoencoderKLCogVideoX\n",
    "import av\n",
    "\n",
    "def decode_latents_to_video(latent_path, vae_model_path, output_video_path, height, width, fps=8, debug=False):\n",
    "    \"\"\"\n",
    "    Decode VAE latents back into a video and save it as an .mp4 file.\n",
    "    \"\"\"\n",
    "    # Load the latents\n",
    "    latents = np.load(latent_path)\n",
    "    latents = torch.from_numpy(latents).to(torch.float32)\n",
    "\n",
    "    # Load the VAE model\n",
    "    vae = AutoencoderKLCogVideoX.from_pretrained(vae_model_path, subfolder=\"vae\")\n",
    "    vae.eval()\n",
    "    vae.to(\"cuda\")\n",
    "\n",
    "    # Decode latents\n",
    "    with torch.no_grad():\n",
    "        latents = latents.to(\"cuda\")\n",
    "        decoded_output = vae.decode(latents / vae.config.scaling_factor)\n",
    "        frames = decoded_output.sample  # Extract frames from DecoderOutput\n",
    "\n",
    "    # Debug: Check tensor shape\n",
    "    print(f\"Decoded tensor shape: {frames.shape}\")\n",
    "\n",
    "    # Remove batch and temporal dimensions\n",
    "    frames = frames.squeeze(0).permute(1, 2, 3, 0)  # [B, F, C, H, W] -> [F, H, W, C]\n",
    "\n",
    "    # Convert frames to numpy array in range [0, 255]\n",
    "    frames = ((frames.cpu().numpy() + 1.0) / 2.0 * 255.0).astype(np.uint8)\n",
    "\n",
    "    # Debug: Display first few frames\n",
    "    if debug:\n",
    "        import matplotlib.pyplot as plt\n",
    "        for i in range(min(5, frames.shape[0])):\n",
    "            plt.imshow(frames[i])\n",
    "            plt.title(f\"Frame {i}\")\n",
    "            plt.axis(\"off\")\n",
    "            plt.show()\n",
    "\n",
    "    # Use PyAV for video writing\n",
    "    container = av.open(output_video_path, mode=\"w\")\n",
    "    stream = container.add_stream(\"h264\", rate=fps)\n",
    "    stream.width = width\n",
    "    stream.height = height\n",
    "    stream.pix_fmt = \"yuv420p\"\n",
    "\n",
    "    for frame in frames:\n",
    "        resized_frame = torch.tensor(frame).numpy()\n",
    "        resized_frame = np.ascontiguousarray(resized_frame)\n",
    "        resized_frame = cv2.resize(resized_frame, (width, height))  # Resize to match dimensions\n",
    "        frame_rgb = resized_frame[..., ::-1]  # Convert BGR to RGB\n",
    "        frame_av = av.VideoFrame.from_ndarray(frame_rgb, format=\"rgb24\")\n",
    "        for packet in stream.encode(frame_av):\n",
    "            container.mux(packet)\n",
    "\n",
    "    # Flush and close the container\n",
    "    container.mux(stream.encode(None))\n",
    "    container.close()\n",
    "\n",
    "    print(f\"Decoded video saved at {output_video_path}\")\n"
   ]
  },
  {
   "cell_type": "code",
   "execution_count": 13,
   "metadata": {},
   "outputs": [
    {
     "name": "stderr",
     "output_type": "stream",
     "text": [
      "The config attributes {'invert_scale_latents': False} were passed to AutoencoderKLCogVideoX, but are not expected and will be ignored. Please verify your config.json configuration file.\n"
     ]
    },
    {
     "name": "stdout",
     "output_type": "stream",
     "text": [
      "Decoded tensor shape: torch.Size([1, 3, 49, 480, 720])\n",
      "Decoded video saved at ./output_video_check_decode.mp4\n"
     ]
    }
   ],
   "source": [
    "# Example usage\n",
    "latent_path = \"/mnt/carpedkm_data/pexels_8fps_latents_1600/1002790_vae_latents.npy\"\n",
    "vae_model_path = \"THUDM/CogVideoX-5b\"\n",
    "output_video_path = \"./output_video_check_decode.mp4\"\n",
    "height = 480\n",
    "width = 720\n",
    "fps = 8\n",
    "decode_latents_to_video(latent_path, vae_model_path, output_video_path, height, width, fps, debug=False)"
   ]
  },
  {
   "cell_type": "code",
   "execution_count": null,
   "metadata": {},
   "outputs": [],
   "source": []
  }
 ],
 "metadata": {
  "kernelspec": {
   "display_name": "ptca",
   "language": "python",
   "name": "python3"
  },
  "language_info": {
   "codemirror_mode": {
    "name": "ipython",
    "version": 3
   },
   "file_extension": ".py",
   "mimetype": "text/x-python",
   "name": "python",
   "nbconvert_exporter": "python",
   "pygments_lexer": "ipython3",
   "version": "3.10.14"
  }
 },
 "nbformat": 4,
 "nbformat_minor": 2
}
